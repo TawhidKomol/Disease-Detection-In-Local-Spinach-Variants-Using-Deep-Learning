{
 "cells": [
  {
   "cell_type": "code",
   "execution_count": 2,
   "metadata": {},
   "outputs": [],
   "source": [
    "import tensorflow as tf\n",
    "from tensorflow.keras import models, layers\n",
    "import matplotlib.pyplot as plt\n",
    "from IPython.display import HTML"
   ]
  },
  {
   "cell_type": "code",
   "execution_count": 3,
   "metadata": {},
   "outputs": [],
   "source": [
    "IMAGE_SIZE = 256\n",
    "CHANNELS = 3"
   ]
  },
  {
   "cell_type": "code",
   "execution_count": 9,
   "metadata": {},
   "outputs": [
    {
     "name": "stdout",
     "output_type": "stream",
     "text": [
      "Found 44 images belonging to 1 classes.\n"
     ]
    }
   ],
   "source": [
    "from tensorflow.keras.preprocessing.image import ImageDataGenerator\n",
    "\n",
    "train_datagen = ImageDataGenerator(\n",
    "        rescale=1./255,\n",
    "        rotation_range=20,\n",
    "        horizontal_flip=True\n",
    ")\n",
    "train_generator = train_datagen.flow_from_directory(\n",
    "        'dataset',\n",
    "        target_size=(IMAGE_SIZE,IMAGE_SIZE),\n",
    "        batch_size=64,\n",
    "        class_mode=\"sparse\",\n",
    "        save_to_dir=\"augmented\"\n",
    ")"
   ]
  },
  {
   "cell_type": "code",
   "execution_count": 10,
   "metadata": {},
   "outputs": [
    {
     "name": "stdout",
     "output_type": "stream",
     "text": [
      "[[[0.50836134 0.4894748  0.50299716]\n",
      "  [0.50049895 0.4901961  0.49657738]\n",
      "  [0.5100514  0.49319917 0.50612986]\n",
      "  ...\n",
      "  [0.7692496  0.7614065  0.76532805]\n",
      "  [0.7675019  0.75965875 0.7635803 ]\n",
      "  [0.7657541  0.75791097 0.76183254]]\n",
      "\n",
      " [[0.50661355 0.4886009  0.49950162]\n",
      "  [0.50312066 0.4901961  0.49919906]\n",
      "  [0.50655586 0.49232528 0.5026343 ]\n",
      "  ...\n",
      "  [0.76470596 0.7568628  0.7607844 ]\n",
      "  [0.76470596 0.7568628  0.7607844 ]\n",
      "  [0.76470596 0.7568628  0.7607844 ]]\n",
      "\n",
      " [[0.50486577 0.48772702 0.49600604]\n",
      "  [0.5057423  0.4901961  0.50182074]\n",
      "  [0.50306034 0.49145135 0.49913874]\n",
      "  ...\n",
      "  [0.76615846 0.7583153  0.7622369 ]\n",
      "  [0.7670323  0.7591892  0.76311076]\n",
      "  [0.7679062  0.76006305 0.7639846 ]]\n",
      "\n",
      " ...\n",
      "\n",
      " [[0.7568628  0.7568628  0.7593733 ]\n",
      "  [0.7568628  0.7568628  0.7576255 ]\n",
      "  [0.7558778  0.7558778  0.7568628 ]\n",
      "  ...\n",
      "  [0.7837232  0.7761753  0.77921104]\n",
      "  [0.77647066 0.7725491  0.76470596]\n",
      "  [0.7765687  0.77264714 0.764804  ]]\n",
      "\n",
      " [[0.7517274  0.7517274  0.7568628 ]\n",
      "  [0.7499796  0.7499796  0.7568628 ]\n",
      "  [0.751383   0.751383   0.75922614]\n",
      "  ...\n",
      "  [0.7843138  0.77647066 0.7803922 ]\n",
      "  [0.77782506 0.77322626 0.76741475]\n",
      "  [0.77647066 0.7725491  0.76470596]]\n",
      "\n",
      " [[0.7638341  0.7638341  0.77167726]\n",
      "  [0.7690775  0.7690775  0.7769206 ]\n",
      "  [0.7719585  0.7719585  0.7798016 ]\n",
      "  ...\n",
      "  [0.7843138  0.77647066 0.7803922 ]\n",
      "  [0.77957284 0.7741001  0.7709103 ]\n",
      "  [0.77647066 0.7725491  0.76470596]]]\n"
     ]
    }
   ],
   "source": [
    "count=0\n",
    "for image_batch, label_batch in train_generator:\n",
    "    print(image_batch[0])\n",
    "    break"
   ]
  },
  {
   "cell_type": "code",
   "execution_count": null,
   "metadata": {},
   "outputs": [],
   "source": []
  },
  {
   "cell_type": "code",
   "execution_count": null,
   "metadata": {},
   "outputs": [],
   "source": []
  }
 ],
 "metadata": {
  "kernelspec": {
   "display_name": "Python 3 (ipykernel)",
   "language": "python",
   "name": "python3"
  },
  "language_info": {
   "codemirror_mode": {
    "name": "ipython",
    "version": 3
   },
   "file_extension": ".py",
   "mimetype": "text/x-python",
   "name": "python",
   "nbconvert_exporter": "python",
   "pygments_lexer": "ipython3",
   "version": "3.8.5"
  }
 },
 "nbformat": 4,
 "nbformat_minor": 4
}
